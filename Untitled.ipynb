{
 "cells": [
  {
   "cell_type": "code",
   "execution_count": 75,
   "metadata": {},
   "outputs": [],
   "source": [
    "import os"
   ]
  },
  {
   "cell_type": "code",
   "execution_count": 76,
   "metadata": {},
   "outputs": [],
   "source": [
    "lst = os.listdir('./Annotations')"
   ]
  },
  {
   "cell_type": "code",
   "execution_count": 84,
   "metadata": {},
   "outputs": [],
   "source": [
    "for i in lst:\n",
    "    with open(os.path.join('./Annotations', i), 'w+') as f:\n",
    "        arr = f.read()        \n",
    "        path_start = arr.find('<path>')\n",
    "        path_end = arr.find('</path>')\n",
    "        name_start = arr.find('<filename>')\n",
    "        name_end = arr.find('</filename>')\n",
    "        arr = arr.replace(arr[start+6:end], './dataset/images/' + arr[name_start+10:name_end], 1)\n",
    "        f.write(arr)"
   ]
  },
  {
   "cell_type": "code",
   "execution_count": 85,
   "metadata": {},
   "outputs": [
    {
     "data": {
      "text/plain": [
       "('', '')"
      ]
     },
     "execution_count": 85,
     "metadata": {},
     "output_type": "execute_result"
    }
   ],
   "source": [
    "arr[path_start+6:path_end], arr[name_start+10:name_end]"
   ]
  },
  {
   "cell_type": "code",
   "execution_count": 86,
   "metadata": {},
   "outputs": [
    {
     "data": {
      "text/plain": [
       "''"
      ]
     },
     "execution_count": 86,
     "metadata": {},
     "output_type": "execute_result"
    }
   ],
   "source": [
    "arr.replace(arr[start+6:end], './JPEGImages/' + arr[name_start+10:name_end], 1)"
   ]
  },
  {
   "cell_type": "code",
   "execution_count": 87,
   "metadata": {},
   "outputs": [
    {
     "ename": "IndexError",
     "evalue": "string index out of range",
     "output_type": "error",
     "traceback": [
      "\u001b[1;31m---------------------------------------------------------------------------\u001b[0m",
      "\u001b[1;31mIndexError\u001b[0m                                Traceback (most recent call last)",
      "\u001b[1;32m<ipython-input-87-522d7818859e>\u001b[0m in \u001b[0;36m<module>\u001b[1;34m\u001b[0m\n\u001b[1;32m----> 1\u001b[1;33m \u001b[0marr\u001b[0m\u001b[1;33m[\u001b[0m\u001b[1;36m3\u001b[0m\u001b[1;33m]\u001b[0m\u001b[1;33m\u001b[0m\u001b[1;33m\u001b[0m\u001b[0m\n\u001b[0m",
      "\u001b[1;31mIndexError\u001b[0m: string index out of range"
     ]
    }
   ],
   "source": [
    "arr[3]"
   ]
  },
  {
   "cell_type": "code",
   "execution_count": 81,
   "metadata": {},
   "outputs": [
    {
     "name": "stdout",
     "output_type": "stream",
     "text": [
      "<annotation>\n",
      "  <folder>images</folder>\n",
      "  <filename>1.jpg</filename>\n",
      "  <path>C:\\Users\\Aditya\\Desktop\\dataset\\images\\1.jpg</path>\n",
      "  <source>\n",
      "    <database>Unknown</database>\n",
      "  </source>\n",
      "  <size>\n",
      "    <width>512</width>\n",
      "    <height>512</height>\n",
      "    <depth>3</depth>\n",
      "  </size>\n",
      "  <segmented>0</segmented>\n",
      "  <object>\n",
      "    <name>ship</name>\n",
      "    <pose>Unspecified</pose>\n",
      "    <truncated>0</truncated>\n",
      "    <difficult>0</difficult>\n",
      "    <bndbox>\n",
      "      <xmin>387</xmin>\n",
      "      <ymin>125</ymin>\n",
      "      <xmax>452</xmax>\n",
      "      <ymax>175</ymax>\n",
      "    </bndbox>\n",
      "  </object>\n",
      "</annotation>\n",
      "\n"
     ]
    }
   ],
   "source": [
    "print(arr)"
   ]
  },
  {
   "cell_type": "code",
   "execution_count": null,
   "metadata": {},
   "outputs": [],
   "source": []
  }
 ],
 "metadata": {
  "kernelspec": {
   "display_name": "Python 3",
   "language": "python",
   "name": "python3"
  },
  "language_info": {
   "codemirror_mode": {
    "name": "ipython",
    "version": 3
   },
   "file_extension": ".py",
   "mimetype": "text/x-python",
   "name": "python",
   "nbconvert_exporter": "python",
   "pygments_lexer": "ipython3",
   "version": "3.7.4"
  }
 },
 "nbformat": 4,
 "nbformat_minor": 4
}
